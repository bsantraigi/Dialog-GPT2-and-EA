{
 "cells": [
  {
   "cell_type": "code",
   "execution_count": 4,
   "metadata": {},
   "outputs": [],
   "source": [
    "# from transformers import AutoModelForCausalLM, AutoTokenizer\n",
    "from transformers import AutoTokenizer, AutoModelWithLMHead\n",
    "import torch\n",
    "import re\n",
    "from tqdm import tqdm\n",
    "import os"
   ]
  },
  {
   "cell_type": "code",
   "execution_count": 5,
   "metadata": {},
   "outputs": [],
   "source": [
    "device = torch.device(\"cuda\" if torch.cuda.is_available() else \"cpu\")"
   ]
  },
  {
   "cell_type": "code",
   "execution_count": 6,
   "metadata": {},
   "outputs": [],
   "source": [
    "variant = \"gpt2\"\n",
    "out_dir = f\"outputs/{variant}\"\n",
    "if not os.path.isdir(out_dir):\n",
    "    os.makedirs(out_dir)"
   ]
  },
  {
   "cell_type": "code",
   "execution_count": 7,
   "metadata": {},
   "outputs": [
    {
     "data": {
      "application/vnd.jupyter.widget-view+json": {
       "model_id": "1f8e513e2ebf4dea84981f8ac54b97f6",
       "version_major": 2,
       "version_minor": 0
      },
      "text/plain": [
       "HBox(children=(FloatProgress(value=0.0, description='Downloading', max=665.0, style=ProgressStyle(description_…"
      ]
     },
     "metadata": {},
     "output_type": "display_data"
    },
    {
     "name": "stdout",
     "output_type": "stream",
     "text": [
      "\n"
     ]
    },
    {
     "data": {
      "application/vnd.jupyter.widget-view+json": {
       "model_id": "fea0c49d9cbe4a6da8d8224e71876090",
       "version_major": 2,
       "version_minor": 0
      },
      "text/plain": [
       "HBox(children=(FloatProgress(value=0.0, description='Downloading', max=1042301.0, style=ProgressStyle(descript…"
      ]
     },
     "metadata": {},
     "output_type": "display_data"
    },
    {
     "name": "stdout",
     "output_type": "stream",
     "text": [
      "\n"
     ]
    },
    {
     "data": {
      "application/vnd.jupyter.widget-view+json": {
       "model_id": "e2161b393cca4c57926c280c0fff475b",
       "version_major": 2,
       "version_minor": 0
      },
      "text/plain": [
       "HBox(children=(FloatProgress(value=0.0, description='Downloading', max=456318.0, style=ProgressStyle(descripti…"
      ]
     },
     "metadata": {},
     "output_type": "display_data"
    },
    {
     "name": "stdout",
     "output_type": "stream",
     "text": [
      "\n"
     ]
    },
    {
     "name": "stderr",
     "output_type": "stream",
     "text": [
      "/home/bishal/miniconda3/lib/python3.7/site-packages/transformers/modeling_auto.py:837: FutureWarning: The class `AutoModelWithLMHead` is deprecated and will be removed in a future version. Please use `AutoModelForCausalLM` for causal language models, `AutoModelForMaskedLM` for masked language models and `AutoModelForSeq2SeqLM` for encoder-decoder models.\n",
      "  FutureWarning,\n"
     ]
    },
    {
     "data": {
      "application/vnd.jupyter.widget-view+json": {
       "model_id": "3d5e5549b2a949b2aa1a6937c4633942",
       "version_major": 2,
       "version_minor": 0
      },
      "text/plain": [
       "HBox(children=(FloatProgress(value=0.0, description='Downloading', max=548118077.0, style=ProgressStyle(descri…"
      ]
     },
     "metadata": {},
     "output_type": "display_data"
    },
    {
     "name": "stdout",
     "output_type": "stream",
     "text": [
      "\n"
     ]
    }
   ],
   "source": [
    "tokenizer = AutoTokenizer.from_pretrained(variant)\n",
    "model = AutoModelWithLMHead.from_pretrained(variant).to(device)"
   ]
  },
  {
   "cell_type": "code",
   "execution_count": 8,
   "metadata": {},
   "outputs": [
    {
     "name": "stderr",
     "output_type": "stream",
     "text": [
      "100%|██████████| 1000/1000 [50:43<00:00,  3.04s/it] \n"
     ]
    }
   ],
   "source": [
    "stack = []\n",
    "with open('daily_dialog/test/dialogues_test.txt') as f, open(f'{out_dir}/dialgpt_responses.txt', 'w') as of:\n",
    "    lines = f.readlines()\n",
    "    \n",
    "    for i, line in tqdm(enumerate(lines), total=len(lines)):\n",
    "        dialog = re.split(\" *__eou__ *\", line.strip())\n",
    "        \n",
    "        predictions = {\n",
    "            \"filename\": i,\n",
    "            \"utterances\": []\n",
    "        }\n",
    "        context = []\n",
    "        \n",
    "        dialog = dialog[:-1] # last one is empty\n",
    "        for step, u in enumerate(dialog):\n",
    "            if step == 0:\n",
    "                predictions['utterances'].append(\n",
    "                    {\n",
    "                        \"true\": u\n",
    "                    }\n",
    "                )\n",
    "            else:\n",
    "                predictions['utterances'][-1]['true'] = u\n",
    "                \n",
    "            # No further utterances\n",
    "            if step == len(dialog) - 1:\n",
    "                break\n",
    "                \n",
    "            # print(\"\\nuser:\", u)\n",
    "            context.append(u)\n",
    "            # encode the new user input, add the eos_token and return a tensor in Pytorch\n",
    "            # new_user_input_ids = tokenizer.encode(input(\">> User:\") + tokenizer.eos_token, return_tensors='pt').to(device)\n",
    "            new_user_input_ids = tokenizer.encode(u, return_tensors='pt').to(device)\n",
    "\n",
    "            # append the new user input tokens to the chat history\n",
    "            # bot_input_ids = torch.cat([chat_history_ids, new_user_input_ids], dim=-1) if step > 0 else new_user_input_ids\n",
    "            bot_input_ids = torch.cat([bot_input_ids, new_user_input_ids], dim=-1) if step > 0 else new_user_input_ids\n",
    "\n",
    "            # generated a response while limiting the total chat history to 1000 tokens, \n",
    "            chat_history_ids = model.generate(bot_input_ids, max_length=bot_input_ids.size(1) + 30, pad_token_id=tokenizer.eos_token_id)\n",
    "\n",
    "            # pretty print last ouput tokens from bot\n",
    "            resp = tokenizer.decode(chat_history_ids[:, bot_input_ids.shape[-1]:][0], skip_special_tokens=True)\n",
    "            \n",
    "            for k, s in enumerate(context):\n",
    "                of.write(f\"Turn {k}: {s}\\n\")\n",
    "            of.write(f\"GPT2: {resp}\\n\\n\")\n",
    "            \n",
    "            predictions['utterances'].append(\n",
    "                    {\n",
    "                        \"predicted\": resp\n",
    "                    }\n",
    "                )\n",
    "        stack.append(predictions)"
   ]
  },
  {
   "cell_type": "code",
   "execution_count": 10,
   "metadata": {},
   "outputs": [],
   "source": [
    "import json\n",
    "with open(f\"{out_dir}/test_predictions.json\", \"w\") as f:\n",
    "    json.dump(stack, f)"
   ]
  },
  {
   "cell_type": "code",
   "execution_count": null,
   "metadata": {},
   "outputs": [],
   "source": [
    "# with open('daily_dialog/test/dialogues_test.txt') as f, open('outputs/gpt2_responses.txt', 'w') as of:\n",
    "#     lines = f.readlines()\n",
    "#     for line in tqdm(lines):\n",
    "#         dialog = re.split(\" *__eou__ *\", line.strip())\n",
    "        \n",
    "#         context = []\n",
    "#         for step, u in enumerate(dialog):\n",
    "#             if len(u) < 1:\n",
    "#                 continue\n",
    "#             # print(\"\\nuser:\", u)\n",
    "#             u = u + \" \"\n",
    "#             context.append(u)\n",
    "#             # encode the new user input, add the eos_token and return a tensor in Pytorch\n",
    "#             # new_user_input_ids = tokenizer.encode(input(\">> User:\") + tokenizer.eos_token, return_tensors='pt').to(device)\n",
    "#             new_user_input_ids = tokenizer.encode(u, return_tensors='pt').to(device)\n",
    "\n",
    "#             # append the new user input tokens to the chat history\n",
    "#             # bot_input_ids = torch.cat([chat_history_ids, new_user_input_ids], dim=-1) if step > 0 else new_user_input_ids\n",
    "#             bot_input_ids = torch.cat([bot_input_ids, new_user_input_ids], dim=-1) if step > 0 else new_user_input_ids\n",
    "\n",
    "#             # generated a response while limiting the total chat history to 1000 tokens, \n",
    "#             chat_history_ids = model.generate(bot_input_ids, max_length=bot_input_ids.size(1) + 30, pad_token_id=tokenizer.eos_token_id)\n",
    "\n",
    "#             # pretty print last ouput tokens from bot\n",
    "#             resp = tokenizer.decode(chat_history_ids[:, bot_input_ids.shape[-1]:][0], skip_special_tokens=True)\n",
    "            \n",
    "            \n",
    "#             for k, s in enumerate(context):\n",
    "#                 of.write(f\"Turn {k}: {s}\\n\")\n",
    "#             of.write(f\"GPT2: {resp}\\n\\n\")"
   ]
  },
  {
   "cell_type": "code",
   "execution_count": null,
   "metadata": {},
   "outputs": [],
   "source": []
  }
 ],
 "metadata": {
  "kernelspec": {
   "display_name": "Python 3",
   "language": "python",
   "name": "python3"
  },
  "language_info": {
   "codemirror_mode": {
    "name": "ipython",
    "version": 3
   },
   "file_extension": ".py",
   "mimetype": "text/x-python",
   "name": "python",
   "nbconvert_exporter": "python",
   "pygments_lexer": "ipython3",
   "version": "3.7.8"
  }
 },
 "nbformat": 4,
 "nbformat_minor": 4
}
