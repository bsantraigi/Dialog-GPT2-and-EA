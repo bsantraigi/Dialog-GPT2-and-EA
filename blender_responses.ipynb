{
 "cells": [
  {
   "cell_type": "code",
   "execution_count": 1,
   "metadata": {},
   "outputs": [
    {
     "name": "stdout",
     "output_type": "stream",
     "text": [
      "env: CUDA_VISIBLE_DEVICES=0\n"
     ]
    }
   ],
   "source": [
    "%env CUDA_VISIBLE_DEVICES=0"
   ]
  },
  {
   "cell_type": "code",
   "execution_count": 2,
   "metadata": {},
   "outputs": [],
   "source": [
    "# from transformers import BlenderbotTokenizer, BlenderbotForConditionalGeneration\n",
    "# mname = 'facebook/blenderbot-3B'\n",
    "# model = BlenderbotForConditionalGeneration.from_pretrained(mname)\n",
    "# tokenizer = BlenderbotTokenizer.from_pretrained(mname)\n",
    "# UTTERANCE = \"My friends are cool but they eat too many carbs.\"\n",
    "# inputs = tokenizer([UTTERANCE], return_tensors='pt')\n",
    "# reply_ids = model.generate(**inputs)\n",
    "# print(tokenizer.batch_decode(reply_ids))"
   ]
  },
  {
   "cell_type": "code",
   "execution_count": 3,
   "metadata": {},
   "outputs": [],
   "source": [
    "# inputs"
   ]
  },
  {
   "cell_type": "code",
   "execution_count": 4,
   "metadata": {},
   "outputs": [],
   "source": [
    "# reply_ids = model.generate(inputs['input_ids'])\n",
    "# print(tokenizer.batch_decode(reply_ids))"
   ]
  },
  {
   "cell_type": "code",
   "execution_count": 5,
   "metadata": {},
   "outputs": [],
   "source": [
    "# UTTERANCE = \"My friends are cool but they eat too many carbs.\"\n",
    "# inputs = tokenizer([UTTERANCE], return_tensors='pt')"
   ]
  },
  {
   "cell_type": "code",
   "execution_count": 6,
   "metadata": {},
   "outputs": [],
   "source": [
    "# inputs['input_ids'].shape"
   ]
  },
  {
   "cell_type": "code",
   "execution_count": 7,
   "metadata": {},
   "outputs": [],
   "source": [
    "from transformers import AutoModelForCausalLM, AutoTokenizer, AutoModelForSeq2SeqLM\n",
    "from transformers import BlenderbotTokenizer, BlenderbotForConditionalGeneration, BlenderbotConfig\n",
    "import torch\n",
    "import re\n",
    "from tqdm import tqdm\n",
    "\n",
    "import json\n",
    "import os"
   ]
  },
  {
   "cell_type": "code",
   "execution_count": 8,
   "metadata": {},
   "outputs": [],
   "source": [
    "device = torch.device(\"cuda\" if torch.cuda.is_available() else \"cpu\")"
   ]
  },
  {
   "cell_type": "code",
   "execution_count": 9,
   "metadata": {},
   "outputs": [],
   "source": [
    "# blenderbot-400M-distill, \"blenderbot-3B\", \"blenderbot_small-90M\"\n",
    "variant = \"blenderbot-3B\"\n",
    "# variant = \"blenderbot_small-90M\"\n",
    "out_dir = f\"outputs/{variant}\"\n",
    "if not os.path.isdir(out_dir):\n",
    "    os.makedirs(out_dir)"
   ]
  },
  {
   "cell_type": "code",
   "execution_count": 10,
   "metadata": {},
   "outputs": [
    {
     "name": "stderr",
     "output_type": "stream",
     "text": [
      "Special tokens have been added in the vocabulary, make sure the associated word embedding are fine-tuned or trained.\n"
     ]
    }
   ],
   "source": [
    "# tokenizer = AutoTokenizer.from_pretrained(f\"facebook/{variant}\")\n",
    "# model = AutoModelForSeq2SeqLM.from_pretrained(f\"facebook/{variant}\")\n",
    "\n",
    "model = BlenderbotForConditionalGeneration.from_pretrained(f\"facebook/{variant}\")\n",
    "tokenizer = BlenderbotTokenizer.from_pretrained(f\"facebook/{variant}\")"
   ]
  },
  {
   "cell_type": "code",
   "execution_count": 11,
   "metadata": {},
   "outputs": [],
   "source": [
    "model=model.to(device)"
   ]
  },
  {
   "cell_type": "code",
   "execution_count": null,
   "metadata": {},
   "outputs": [],
   "source": [
    "stack = []\n",
    "with open('daily_dialog/test/dialogues_test.txt') as f, open(f'{out_dir}/dialgpt_responses.txt', 'w') as of:\n",
    "    lines = f.readlines()\n",
    "    \n",
    "    for i, line in tqdm(enumerate(lines), total=len(lines)):\n",
    "        dialog = re.split(\" *__eou__ *\", line.strip())\n",
    "        \n",
    "        predictions = {\n",
    "            \"filename\": i,\n",
    "            \"utterances\": []\n",
    "        }\n",
    "        context = []\n",
    "        \n",
    "        dialog = dialog[:-1] # last one is empty\n",
    "        for step, u in enumerate(dialog):\n",
    "            if step == 0:\n",
    "                predictions['utterances'].append(\n",
    "                    {\n",
    "                        \"true\": u\n",
    "                    }\n",
    "                )\n",
    "            else:\n",
    "                predictions['utterances'][-1]['true'] = u\n",
    "                \n",
    "            # No further utterances\n",
    "            if step == len(dialog) - 1:\n",
    "                break\n",
    "                \n",
    "            # print(\"\\nuser:\", u)\n",
    "            context.append(u)\n",
    "            # encode the new user input, add the eos_token and return a tensor in Pytorch\n",
    "            # new_user_input_ids = tokenizer.encode(input(\">> User:\") + tokenizer.eos_token, return_tensors='pt').to(device)\n",
    "            new_user_input_ids = tokenizer([u], return_tensors='pt')['input_ids'].to(device)\n",
    "            \n",
    "            \n",
    "            \n",
    "            # append the new user input tokens to the chat history\n",
    "            # bot_input_ids = torch.cat([chat_history_ids, new_user_input_ids], dim=-1) if step > 0 else new_user_input_ids\n",
    "            bot_input_ids = torch.cat([bot_input_ids, new_user_input_ids], dim=-1) if step > 0 else new_user_input_ids\n",
    "            \n",
    "            # generated a response while limiting the total chat history to 1000 tokens, \n",
    "            chat_history_ids = model.generate(bot_input_ids[:, -128:]) #blender-3B can't handle more than 128 length\n",
    "\n",
    "            # pretty print last ouput tokens from bot\n",
    "            resp = tokenizer.batch_decode(chat_history_ids, skip_special_tokens=True)\n",
    "            \n",
    "            for k, s in enumerate(context):\n",
    "                of.write(f\"Turn {k}: {s}\\n\")\n",
    "            of.write(f\"Blender: {resp}\\n\\n\")\n",
    "            \n",
    "            predictions['utterances'].append(\n",
    "                    {\n",
    "                        \"predicted\": resp\n",
    "                    }\n",
    "                )\n",
    "        stack.append(predictions)"
   ]
  },
  {
   "cell_type": "code",
   "execution_count": null,
   "metadata": {},
   "outputs": [],
   "source": [
    "with open(f\"{out_dir}/test_predictions.json\", \"w\") as f:\n",
    "    json.dump(stack, f)"
   ]
  },
  {
   "cell_type": "code",
   "execution_count": null,
   "metadata": {},
   "outputs": [],
   "source": []
  }
 ],
 "metadata": {
  "kernelspec": {
   "display_name": "Python 3",
   "language": "python",
   "name": "python3"
  },
  "language_info": {
   "codemirror_mode": {
    "name": "ipython",
    "version": 3
   },
   "file_extension": ".py",
   "mimetype": "text/x-python",
   "name": "python",
   "nbconvert_exporter": "python",
   "pygments_lexer": "ipython3",
   "version": "3.7.8"
  }
 },
 "nbformat": 4,
 "nbformat_minor": 4
}
